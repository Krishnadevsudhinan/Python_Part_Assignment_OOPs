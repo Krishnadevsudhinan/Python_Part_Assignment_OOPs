{
 "cells": [
  {
   "cell_type": "code",
   "execution_count": 2,
   "id": "7c6cd4a9-b1b3-4867-8ca7-1f105c338eb9",
   "metadata": {},
   "outputs": [
    {
     "name": "stdout",
     "output_type": "stream",
     "text": [
      "=== Core Course ===\n",
      "Code: CS101, Name: Intro to CS, Credits: 3\n",
      "Required for Major: Yes\n",
      "\n",
      "=== Elective Course ===\n",
      "Code: SESC202, Name: Social Science, Credits: 2\n",
      "Elective Type: Economics\n",
      "\n",
      "=== Employee Details ===\n",
      "Employee Name: Robert\n",
      "Employee Salary: 40000\n"
     ]
    }
   ],
   "source": [
    "# Combined Code for Question 1 and Question 2\n",
    "\n",
    "# -------- Question 1: University Course Catalog --------\n",
    "class Course:\n",
    "    def __init__(self, course_code, course_name, credit_hours):\n",
    "        self.course_code = course_code\n",
    "        self.course_name = course_name\n",
    "        self.credit_hours = credit_hours\n",
    "\n",
    "    def display(self):\n",
    "        print(f\"Code: {self.course_code}, Name: {self.course_name}, Credits: {self.credit_hours}\")\n",
    "\n",
    "\n",
    "class CoreCourse(Course):\n",
    "    def __init__(self, course_code, course_name, credit_hours, required_for_major):\n",
    "        super().__init__(course_code, course_name, credit_hours)\n",
    "        self.required_for_major = required_for_major\n",
    "\n",
    "    def display(self):\n",
    "        super().display()\n",
    "        print(f\"Required for Major: {'Yes' if self.required_for_major else 'No'}\")\n",
    "\n",
    "\n",
    "class ElectiveCourse(Course):\n",
    "    def __init__(self, course_code, course_name, credit_hours, elective_type):\n",
    "        super().__init__(course_code, course_name, credit_hours)\n",
    "        self.elective_type = elective_type\n",
    "\n",
    "    def display(self):\n",
    "        super().display()\n",
    "        print(f\"Elective Type: {self.elective_type}\")\n",
    "\n",
    "\n",
    "# -------- Question 2: Employee Management --------\n",
    "class Employee:\n",
    "    def __init__(self, name, salary):\n",
    "        self.name = name\n",
    "        self.salary = salary\n",
    "\n",
    "    def get_name(self):\n",
    "        return self.name\n",
    "\n",
    "    def get_salary(self):\n",
    "        return self.salary\n",
    "\n",
    "\n",
    "# -------- Main Execution --------\n",
    "if __name__ == \"__main__\":\n",
    "    # Testing Question 1\n",
    "    print(\"=== Core Course ===\")\n",
    "    core = CoreCourse(\"CS101\", \"Intro to CS\", 3, True)\n",
    "    core.display()\n",
    "\n",
    "    print(\"\\n=== Elective Course ===\")\n",
    "    elective = ElectiveCourse(\"SESC202\", \"Social Science\", 2, \"Economics\")\n",
    "    elective.display()\n",
    "\n",
    "    # Testing Question 2\n",
    "    print(\"\\n=== Employee Details ===\")\n",
    "    emp = Employee(\"Robert\", 40000)\n",
    "    print(\"Employee Name:\", emp.get_name())\n",
    "    print(\"Employee Salary:\", emp.get_salary())\n",
    "\n",
    "\n",
    "\n"
   ]
  },
  {
   "cell_type": "code",
   "execution_count": null,
   "id": "269e0a24-cbc5-4356-b560-8da005c49656",
   "metadata": {},
   "outputs": [],
   "source": []
  }
 ],
 "metadata": {
  "kernelspec": {
   "display_name": "Python [conda env:base] *",
   "language": "python",
   "name": "conda-base-py"
  },
  "language_info": {
   "codemirror_mode": {
    "name": "ipython",
    "version": 3
   },
   "file_extension": ".py",
   "mimetype": "text/x-python",
   "name": "python",
   "nbconvert_exporter": "python",
   "pygments_lexer": "ipython3",
   "version": "3.12.7"
  }
 },
 "nbformat": 4,
 "nbformat_minor": 5
}
